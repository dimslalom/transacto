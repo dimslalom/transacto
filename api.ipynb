{
 "cells": [
  {
   "cell_type": "markdown",
   "metadata": {},
   "source": [
    "# Setup HTTP Client\n",
    "Configure Python requests library and set up base URL configuration for API calls."
   ]
  },
  {
   "cell_type": "code",
   "execution_count": null,
   "metadata": {},
   "outputs": [],
   "source": [
    "# Import the requests library\n",
    "import requests\n",
    "\n",
    "# Set up the base URL for the API\n",
    "BASE_URL = \"http://your-datalake-api-url.com/api\"\n",
    "\n",
    "# Example function to get transactions\n",
    "def get_transactions():\n",
    "    response = requests.get(f\"{BASE_URL}/transactions\")\n",
    "    if response.status_code == 200:\n",
    "        return response.json()\n",
    "    else:\n",
    "        return {'error': response.status_code}\n",
    "\n",
    "# Example function to get a specific transaction by timestamp\n",
    "def get_transaction(timestamp):\n",
    "    response = requests.get(f\"{BASE_URL}/transaction/{timestamp}\")\n",
    "    if response.status_code == 200:\n",
    "        return response.json()\n",
    "    else:\n",
    "        return {'error': response.status_code}\n",
    "\n",
    "# Example function to delete multiple entries\n",
    "def delete_multiple_entries(timestamps):\n",
    "    response = requests.delete(f\"{BASE_URL}/transaction\", json={'timestamps': timestamps})\n",
    "    if response.status_code == 200:\n",
    "        return response.json()\n",
    "    else:\n",
    "        return {'error': response.status_code}"
   ]
  },
  {
   "cell_type": "markdown",
   "metadata": {},
   "source": [
    "# Authentication Setup\n",
    "Demonstrate how to set up headers and authentication tokens if required for API access."
   ]
  },
  {
   "cell_type": "code",
   "execution_count": null,
   "metadata": {},
   "outputs": [],
   "source": [
    "# Import the requests library\n",
    "import requests\n",
    "\n",
    "# Set up the base URL for the API\n",
    "BASE_URL = \"http://your-datalake-api-url.com/api\"\n",
    "\n",
    "# Set up the authentication token\n",
    "AUTH_TOKEN = \"your_authentication_token\"\n",
    "\n",
    "# Set up the headers with the authentication token\n",
    "HEADERS = {\n",
    "    \"Authorization\": f\"Bearer {AUTH_TOKEN}\",\n",
    "    \"Content-Type\": \"application/json\"\n",
    "}\n",
    "\n",
    "# Example function to get transactions with authentication\n",
    "def get_transactions():\n",
    "    response = requests.get(f\"{BASE_URL}/transactions\", headers=HEADERS)\n",
    "    if response.status_code == 200:\n",
    "        return response.json()\n",
    "    else:\n",
    "        return {'error': response.status_code}\n",
    "\n",
    "# Example function to get a specific transaction by timestamp with authentication\n",
    "def get_transaction(timestamp):\n",
    "    response = requests.get(f\"{BASE_URL}/transaction/{timestamp}\", headers=HEADERS)\n",
    "    if response.status_code == 200:\n",
    "        return response.json()\n",
    "    else:\n",
    "        return {'error': response.status_code}\n",
    "\n",
    "# Example function to delete multiple entries with authentication\n",
    "def delete_multiple_entries(timestamps):\n",
    "    response = requests.delete(f\"{BASE_URL}/transaction\", headers=HEADERS, json={'timestamps': timestamps})\n",
    "    if response.status_code == 200:\n",
    "        return response.json()\n",
    "    else:\n",
    "        return {'error': response.status_code}"
   ]
  },
  {
   "cell_type": "markdown",
   "metadata": {},
   "source": [
    "# Fetching All Transactions\n",
    "Show how to make GET requests to /api/transactions endpoint and parse JSON response into pandas DataFrame."
   ]
  },
  {
   "cell_type": "code",
   "execution_count": null,
   "metadata": {},
   "outputs": [],
   "source": [
    "# Import the pandas library\n",
    "import pandas as pd\n",
    "\n",
    "# Function to fetch all transactions and parse JSON response into pandas DataFrame\n",
    "def fetch_all_transactions():\n",
    "    transactions = get_transactions()\n",
    "    if 'error' not in transactions:\n",
    "        df = pd.DataFrame(transactions)\n",
    "        return df\n",
    "    else:\n",
    "        print(f\"Error fetching transactions: {transactions['error']}\")\n",
    "        return pd.DataFrame()\n",
    "\n",
    "# Fetch and display all transactions\n",
    "transactions_df = fetch_all_transactions()\n",
    "transactions_df.head()"
   ]
  },
  {
   "cell_type": "markdown",
   "metadata": {},
   "source": [
    "# Retrieving Single Transaction\n",
    "Examples of fetching individual transactions using timestamp as identifier with /api/transaction/<timestamp>."
   ]
  },
  {
   "cell_type": "code",
   "execution_count": null,
   "metadata": {},
   "outputs": [],
   "source": [
    "# Function to fetch a single transaction by timestamp and parse JSON response\n",
    "def fetch_single_transaction(timestamp):\n",
    "    transaction = get_transaction(timestamp)\n",
    "    if 'error' not in transaction:\n",
    "        return transaction\n",
    "    else:\n",
    "        print(f\"Error fetching transaction: {transaction['error']}\")\n",
    "        return None\n",
    "\n",
    "# Example usage: Fetch and display a single transaction by timestamp\n",
    "timestamp = 1627849923  # Replace with an actual timestamp\n",
    "single_transaction = fetch_single_transaction(timestamp)\n",
    "single_transaction"
   ]
  },
  {
   "cell_type": "markdown",
   "metadata": {},
   "source": [
    "# Deleting Transactions\n",
    "Demonstrate how to delete multiple transactions by sending timestamps array to the delete endpoint."
   ]
  },
  {
   "cell_type": "code",
   "execution_count": null,
   "metadata": {},
   "outputs": [],
   "source": [
    "# Function to delete multiple transactions by sending timestamps array to the delete endpoint\n",
    "def delete_transactions(timestamps):\n",
    "    response = requests.delete(f\"{BASE_URL}/transaction\", headers=HEADERS, json={'timestamps': timestamps})\n",
    "    if response.status_code == 200:\n",
    "        return response.json()\n",
    "    else:\n",
    "        return {'error': response.status_code}\n",
    "\n",
    "# Example usage: Delete multiple transactions\n",
    "timestamps_to_delete = [1627849923, 1627849934]  # Replace with actual timestamps\n",
    "delete_response = delete_transactions(timestamps_to_delete)\n",
    "delete_response"
   ]
  },
  {
   "cell_type": "markdown",
   "metadata": {},
   "source": [
    "# Handling API Responses\n",
    "Examples of proper error handling and response parsing for different HTTP status codes."
   ]
  },
  {
   "cell_type": "code",
   "execution_count": null,
   "metadata": {},
   "outputs": [],
   "source": [
    "# Handling API Responses\n",
    "\n",
    "# Function to handle API responses and parse JSON\n",
    "def handle_response(response):\n",
    "    if response.status_code == 200:\n",
    "        return response.json()\n",
    "    elif response.status_code == 400:\n",
    "        return {'error': 'Bad Request'}\n",
    "    elif response.status_code == 401:\n",
    "        return {'error': 'Unauthorized'}\n",
    "    elif response.status_code == 404:\n",
    "        return {'error': 'Not Found'}\n",
    "    elif response.status_code == 500:\n",
    "        return {'error': 'Internal Server Error'}\n",
    "    else:\n",
    "        return {'error': f'Unexpected status code: {response.status_code}'}\n",
    "\n",
    "# Example function to get transactions with improved error handling\n",
    "def get_transactions():\n",
    "    response = requests.get(f\"{BASE_URL}/transactions\", headers=HEADERS)\n",
    "    return handle_response(response)\n",
    "\n",
    "# Example function to get a specific transaction by timestamp with improved error handling\n",
    "def get_transaction(timestamp):\n",
    "    response = requests.get(f\"{BASE_URL}/transaction/{timestamp}\", headers=HEADERS)\n",
    "    return handle_response(response)\n",
    "\n",
    "# Example function to delete multiple entries with improved error handling\n",
    "def delete_multiple_entries(timestamps):\n",
    "    response = requests.delete(f\"{BASE_URL}/transaction\", headers=HEADERS, json={'timestamps': timestamps})\n",
    "    return handle_response(response)\n",
    "\n",
    "# Example usage: Fetch and display all transactions with improved error handling\n",
    "transactions_df = fetch_all_transactions()\n",
    "transactions_df.head()\n",
    "\n",
    "# Example usage: Fetch and display a single transaction by timestamp with improved error handling\n",
    "single_transaction = fetch_single_transaction(timestamp)\n",
    "single_transaction\n",
    "\n",
    "# Example usage: Delete multiple transactions with improved error handling\n",
    "delete_response = delete_transactions(timestamps_to_delete)\n",
    "delete_response"
   ]
  }
 ],
 "metadata": {
  "language_info": {
   "name": "python"
  }
 },
 "nbformat": 4,
 "nbformat_minor": 2
}
